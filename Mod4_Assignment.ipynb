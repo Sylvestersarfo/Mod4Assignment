{
  "nbformat": 4,
  "nbformat_minor": 0,
  "metadata": {
    "colab": {
      "provenance": []
    },
    "kernelspec": {
      "name": "python3",
      "display_name": "Python 3"
    },
    "language_info": {
      "name": "python"
    }
  },
  "cells": [
    {
      "cell_type": "code",
      "execution_count": 2,
      "metadata": {
        "id": "sCQAaxsNLfGf"
      },
      "outputs": [],
      "source": [
        "# install java\n",
        "!apt-get install openjdk-8-jdk-headless -qq > /dev/null\n",
        "\n",
        "# install spark (change the version number if needed)\n",
        "!wget -q https://archive.apache.org/dist/spark/spark-3.0.0/spark-3.0.0-bin-hadoop3.2.tgz\n",
        "\n",
        "# unzip the spark file to the current folder\n",
        "!tar xf spark-3.0.0-bin-hadoop3.2.tgz\n",
        "\n",
        "# set your spark folder to your system path environment.\n",
        "import os\n",
        "os.environ[\"JAVA_HOME\"] = \"/usr/lib/jvm/java-8-openjdk-amd64\"\n",
        "os.environ[\"SPARK_HOME\"] = \"/content/spark-3.0.0-bin-hadoop3.2\"\n",
        "\n",
        "\n",
        "# install findspark using pip\n",
        "!pip install -q findspark"
      ]
    },
    {
      "cell_type": "code",
      "source": [
        "# Start a Spark session\n",
        "import findspark\n",
        "findspark.init()\n",
        "from pyspark.sql import SparkSession\n",
        "#spark = SparkSession.builder.master(\"local[*]\").getOrCreate()\n",
        "spark = SparkSession.builder.master(\"local[*]\").enableHiveSupport().getOrCreate()"
      ],
      "metadata": {
        "id": "FiaNOJFLLrcZ"
      },
      "execution_count": 3,
      "outputs": []
    },
    {
      "cell_type": "code",
      "source": [
        "spark = SparkSession.builder \\\n",
        "    .appName(\"BostonHousing\") \\\n",
        "    .config(\"spark.sql.warehouse.dir\", \"/user/hive/warehouse\") \\\n",
        "    .config(\"hive.metastore.uris\", \"thrift://localhost:9083\") \\\n",
        "    .enableHiveSupport() \\\n",
        "    .getOrCreate()"
      ],
      "metadata": {
        "id": "XcKJkCA8NLmn"
      },
      "execution_count": 4,
      "outputs": []
    },
    {
      "cell_type": "code",
      "source": [
        "# Upload dataset\n",
        "from google.colab import files\n",
        "uploaded = files.upload()"
      ],
      "metadata": {
        "colab": {
          "base_uri": "https://localhost:8080/",
          "height": 73
        },
        "id": "ZmiWNiswNXNo",
        "outputId": "c1215120-d343-41f2-b4ac-28ef46dd81ce"
      },
      "execution_count": 5,
      "outputs": [
        {
          "output_type": "display_data",
          "data": {
            "text/plain": [
              "<IPython.core.display.HTML object>"
            ],
            "text/html": [
              "\n",
              "     <input type=\"file\" id=\"files-7d7fbde0-ed4d-4f2f-b8b8-30a9b2572945\" name=\"files[]\" multiple disabled\n",
              "        style=\"border:none\" />\n",
              "     <output id=\"result-7d7fbde0-ed4d-4f2f-b8b8-30a9b2572945\">\n",
              "      Upload widget is only available when the cell has been executed in the\n",
              "      current browser session. Please rerun this cell to enable.\n",
              "      </output>\n",
              "      <script>// Copyright 2017 Google LLC\n",
              "//\n",
              "// Licensed under the Apache License, Version 2.0 (the \"License\");\n",
              "// you may not use this file except in compliance with the License.\n",
              "// You may obtain a copy of the License at\n",
              "//\n",
              "//      http://www.apache.org/licenses/LICENSE-2.0\n",
              "//\n",
              "// Unless required by applicable law or agreed to in writing, software\n",
              "// distributed under the License is distributed on an \"AS IS\" BASIS,\n",
              "// WITHOUT WARRANTIES OR CONDITIONS OF ANY KIND, either express or implied.\n",
              "// See the License for the specific language governing permissions and\n",
              "// limitations under the License.\n",
              "\n",
              "/**\n",
              " * @fileoverview Helpers for google.colab Python module.\n",
              " */\n",
              "(function(scope) {\n",
              "function span(text, styleAttributes = {}) {\n",
              "  const element = document.createElement('span');\n",
              "  element.textContent = text;\n",
              "  for (const key of Object.keys(styleAttributes)) {\n",
              "    element.style[key] = styleAttributes[key];\n",
              "  }\n",
              "  return element;\n",
              "}\n",
              "\n",
              "// Max number of bytes which will be uploaded at a time.\n",
              "const MAX_PAYLOAD_SIZE = 100 * 1024;\n",
              "\n",
              "function _uploadFiles(inputId, outputId) {\n",
              "  const steps = uploadFilesStep(inputId, outputId);\n",
              "  const outputElement = document.getElementById(outputId);\n",
              "  // Cache steps on the outputElement to make it available for the next call\n",
              "  // to uploadFilesContinue from Python.\n",
              "  outputElement.steps = steps;\n",
              "\n",
              "  return _uploadFilesContinue(outputId);\n",
              "}\n",
              "\n",
              "// This is roughly an async generator (not supported in the browser yet),\n",
              "// where there are multiple asynchronous steps and the Python side is going\n",
              "// to poll for completion of each step.\n",
              "// This uses a Promise to block the python side on completion of each step,\n",
              "// then passes the result of the previous step as the input to the next step.\n",
              "function _uploadFilesContinue(outputId) {\n",
              "  const outputElement = document.getElementById(outputId);\n",
              "  const steps = outputElement.steps;\n",
              "\n",
              "  const next = steps.next(outputElement.lastPromiseValue);\n",
              "  return Promise.resolve(next.value.promise).then((value) => {\n",
              "    // Cache the last promise value to make it available to the next\n",
              "    // step of the generator.\n",
              "    outputElement.lastPromiseValue = value;\n",
              "    return next.value.response;\n",
              "  });\n",
              "}\n",
              "\n",
              "/**\n",
              " * Generator function which is called between each async step of the upload\n",
              " * process.\n",
              " * @param {string} inputId Element ID of the input file picker element.\n",
              " * @param {string} outputId Element ID of the output display.\n",
              " * @return {!Iterable<!Object>} Iterable of next steps.\n",
              " */\n",
              "function* uploadFilesStep(inputId, outputId) {\n",
              "  const inputElement = document.getElementById(inputId);\n",
              "  inputElement.disabled = false;\n",
              "\n",
              "  const outputElement = document.getElementById(outputId);\n",
              "  outputElement.innerHTML = '';\n",
              "\n",
              "  const pickedPromise = new Promise((resolve) => {\n",
              "    inputElement.addEventListener('change', (e) => {\n",
              "      resolve(e.target.files);\n",
              "    });\n",
              "  });\n",
              "\n",
              "  const cancel = document.createElement('button');\n",
              "  inputElement.parentElement.appendChild(cancel);\n",
              "  cancel.textContent = 'Cancel upload';\n",
              "  const cancelPromise = new Promise((resolve) => {\n",
              "    cancel.onclick = () => {\n",
              "      resolve(null);\n",
              "    };\n",
              "  });\n",
              "\n",
              "  // Wait for the user to pick the files.\n",
              "  const files = yield {\n",
              "    promise: Promise.race([pickedPromise, cancelPromise]),\n",
              "    response: {\n",
              "      action: 'starting',\n",
              "    }\n",
              "  };\n",
              "\n",
              "  cancel.remove();\n",
              "\n",
              "  // Disable the input element since further picks are not allowed.\n",
              "  inputElement.disabled = true;\n",
              "\n",
              "  if (!files) {\n",
              "    return {\n",
              "      response: {\n",
              "        action: 'complete',\n",
              "      }\n",
              "    };\n",
              "  }\n",
              "\n",
              "  for (const file of files) {\n",
              "    const li = document.createElement('li');\n",
              "    li.append(span(file.name, {fontWeight: 'bold'}));\n",
              "    li.append(span(\n",
              "        `(${file.type || 'n/a'}) - ${file.size} bytes, ` +\n",
              "        `last modified: ${\n",
              "            file.lastModifiedDate ? file.lastModifiedDate.toLocaleDateString() :\n",
              "                                    'n/a'} - `));\n",
              "    const percent = span('0% done');\n",
              "    li.appendChild(percent);\n",
              "\n",
              "    outputElement.appendChild(li);\n",
              "\n",
              "    const fileDataPromise = new Promise((resolve) => {\n",
              "      const reader = new FileReader();\n",
              "      reader.onload = (e) => {\n",
              "        resolve(e.target.result);\n",
              "      };\n",
              "      reader.readAsArrayBuffer(file);\n",
              "    });\n",
              "    // Wait for the data to be ready.\n",
              "    let fileData = yield {\n",
              "      promise: fileDataPromise,\n",
              "      response: {\n",
              "        action: 'continue',\n",
              "      }\n",
              "    };\n",
              "\n",
              "    // Use a chunked sending to avoid message size limits. See b/62115660.\n",
              "    let position = 0;\n",
              "    do {\n",
              "      const length = Math.min(fileData.byteLength - position, MAX_PAYLOAD_SIZE);\n",
              "      const chunk = new Uint8Array(fileData, position, length);\n",
              "      position += length;\n",
              "\n",
              "      const base64 = btoa(String.fromCharCode.apply(null, chunk));\n",
              "      yield {\n",
              "        response: {\n",
              "          action: 'append',\n",
              "          file: file.name,\n",
              "          data: base64,\n",
              "        },\n",
              "      };\n",
              "\n",
              "      let percentDone = fileData.byteLength === 0 ?\n",
              "          100 :\n",
              "          Math.round((position / fileData.byteLength) * 100);\n",
              "      percent.textContent = `${percentDone}% done`;\n",
              "\n",
              "    } while (position < fileData.byteLength);\n",
              "  }\n",
              "\n",
              "  // All done.\n",
              "  yield {\n",
              "    response: {\n",
              "      action: 'complete',\n",
              "    }\n",
              "  };\n",
              "}\n",
              "\n",
              "scope.google = scope.google || {};\n",
              "scope.google.colab = scope.google.colab || {};\n",
              "scope.google.colab._files = {\n",
              "  _uploadFiles,\n",
              "  _uploadFilesContinue,\n",
              "};\n",
              "})(self);\n",
              "</script> "
            ]
          },
          "metadata": {}
        },
        {
          "output_type": "stream",
          "name": "stdout",
          "text": [
            "Saving BostonHousing.csv to BostonHousing.csv\n"
          ]
        }
      ]
    },
    {
      "cell_type": "code",
      "source": [
        "# Read the dataset into a Spark DataFrame\n",
        "file_path = \"BostonHousing.csv\"\n",
        "df = spark.read.csv(file_path, header=True, inferSchema=True)\n",
        "df.show(5)"
      ],
      "metadata": {
        "colab": {
          "base_uri": "https://localhost:8080/"
        },
        "id": "Y4MYWKs9NzNz",
        "outputId": "2b9e7270-79de-402a-a638-dfc6089da617"
      },
      "execution_count": 6,
      "outputs": [
        {
          "output_type": "stream",
          "name": "stdout",
          "text": [
            "+-------+----+-----+----+-----+-----+----+------+---+---+-------+------+-----+----+\n",
            "|   crim|  zn|indus|chas|  nox|   rm| age|   dis|rad|tax|ptratio|     b|lstat|medv|\n",
            "+-------+----+-----+----+-----+-----+----+------+---+---+-------+------+-----+----+\n",
            "|0.00632|18.0| 2.31|   0|0.538|6.575|65.2|  4.09|  1|296|   15.3| 396.9| 4.98|24.0|\n",
            "|0.02731| 0.0| 7.07|   0|0.469|6.421|78.9|4.9671|  2|242|   17.8| 396.9| 9.14|21.6|\n",
            "|0.02729| 0.0| 7.07|   0|0.469|7.185|61.1|4.9671|  2|242|   17.8|392.83| 4.03|34.7|\n",
            "|0.03237| 0.0| 2.18|   0|0.458|6.998|45.8|6.0622|  3|222|   18.7|394.63| 2.94|33.4|\n",
            "|0.06905| 0.0| 2.18|   0|0.458|7.147|54.2|6.0622|  3|222|   18.7| 396.9| 5.33|36.2|\n",
            "+-------+----+-----+----+-----+-----+----+------+---+---+-------+------+-----+----+\n",
            "only showing top 5 rows\n",
            "\n"
          ]
        }
      ]
    },
    {
      "cell_type": "code",
      "source": [
        "# Create a Hive table from the DataFrame\n",
        "df.createOrReplaceTempView(\"boston_housing\")"
      ],
      "metadata": {
        "id": "cPo5JPkJOkeT"
      },
      "execution_count": 7,
      "outputs": []
    },
    {
      "cell_type": "code",
      "source": [
        "### Task 1. Data Overview\n",
        "# 1.1 Retrieve and display the first 5 rows\n",
        "spark.sql(\"SELECT * FROM boston_housing LIMIT 5\").show()"
      ],
      "metadata": {
        "colab": {
          "base_uri": "https://localhost:8080/"
        },
        "id": "QjstlD5sO3Dm",
        "outputId": "a4ffabdc-bf5d-492d-caaf-d727f4011aae"
      },
      "execution_count": 8,
      "outputs": [
        {
          "output_type": "stream",
          "name": "stdout",
          "text": [
            "+-------+----+-----+----+-----+-----+----+------+---+---+-------+------+-----+----+\n",
            "|   crim|  zn|indus|chas|  nox|   rm| age|   dis|rad|tax|ptratio|     b|lstat|medv|\n",
            "+-------+----+-----+----+-----+-----+----+------+---+---+-------+------+-----+----+\n",
            "|0.00632|18.0| 2.31|   0|0.538|6.575|65.2|  4.09|  1|296|   15.3| 396.9| 4.98|24.0|\n",
            "|0.02731| 0.0| 7.07|   0|0.469|6.421|78.9|4.9671|  2|242|   17.8| 396.9| 9.14|21.6|\n",
            "|0.02729| 0.0| 7.07|   0|0.469|7.185|61.1|4.9671|  2|242|   17.8|392.83| 4.03|34.7|\n",
            "|0.03237| 0.0| 2.18|   0|0.458|6.998|45.8|6.0622|  3|222|   18.7|394.63| 2.94|33.4|\n",
            "|0.06905| 0.0| 2.18|   0|0.458|7.147|54.2|6.0622|  3|222|   18.7| 396.9| 5.33|36.2|\n",
            "+-------+----+-----+----+-----+-----+----+------+---+---+-------+------+-----+----+\n",
            "\n"
          ]
        }
      ]
    },
    {
      "cell_type": "code",
      "source": [
        "# 1.2 Find the total number of records\n",
        "spark.sql(\"SELECT COUNT(*) AS total_records FROM boston_housing\").show()"
      ],
      "metadata": {
        "colab": {
          "base_uri": "https://localhost:8080/"
        },
        "id": "ZPufZqNlPTV3",
        "outputId": "2306fd13-7bca-40a3-9e18-dbfd28c4a14c"
      },
      "execution_count": 9,
      "outputs": [
        {
          "output_type": "stream",
          "name": "stdout",
          "text": [
            "+-------------+\n",
            "|total_records|\n",
            "+-------------+\n",
            "|          506|\n",
            "+-------------+\n",
            "\n"
          ]
        }
      ]
    },
    {
      "cell_type": "code",
      "source": [
        "### Task 2: Descriptive Statistics\n",
        "# 2.1 Basic statistics for \"medv\"\n",
        "spark.sql(\"\"\"\n",
        "SELECT\n",
        "    AVG(medv) AS mean_medv,\n",
        "    STDDEV(medv) AS stddev_medv,\n",
        "    MIN(medv) AS min_medv,\n",
        "    MAX(medv) AS max_medv\n",
        "FROM boston_housing\n",
        "\"\"\").show()\n"
      ],
      "metadata": {
        "colab": {
          "base_uri": "https://localhost:8080/"
        },
        "id": "7zAVhNuyPrpw",
        "outputId": "220f0c55-9453-4989-9966-287a996250e1"
      },
      "execution_count": 10,
      "outputs": [
        {
          "output_type": "stream",
          "name": "stdout",
          "text": [
            "+------------------+-----------------+--------+--------+\n",
            "|         mean_medv|      stddev_medv|min_medv|max_medv|\n",
            "+------------------+-----------------+--------+--------+\n",
            "|22.532806324110698|9.197104087379815|     5.0|    50.0|\n",
            "+------------------+-----------------+--------+--------+\n",
            "\n"
          ]
        }
      ]
    },
    {
      "cell_type": "code",
      "source": [
        "# 2.2 Calculate mean of \"rm\"\n",
        "spark.sql(\"SELECT AVG(rm) AS mean_rm FROM boston_housing\").show()"
      ],
      "metadata": {
        "colab": {
          "base_uri": "https://localhost:8080/"
        },
        "id": "ToUicllMQQEL",
        "outputId": "44f26922-a744-48e5-f437-79c3a51b6f2e"
      },
      "execution_count": 11,
      "outputs": [
        {
          "output_type": "stream",
          "name": "stdout",
          "text": [
            "+-----------------+\n",
            "|          mean_rm|\n",
            "+-----------------+\n",
            "|6.284634387351787|\n",
            "+-----------------+\n",
            "\n"
          ]
        }
      ]
    },
    {
      "cell_type": "code",
      "source": [
        "### Task 3: Data Exploration\n",
        "# 3.1 Property with the highest crime rate\n",
        "spark.sql(\"SELECT * FROM boston_housing ORDER BY crim DESC LIMIT 1\").show()\n"
      ],
      "metadata": {
        "colab": {
          "base_uri": "https://localhost:8080/"
        },
        "id": "E7wBiWzZQbWQ",
        "outputId": "7566726b-a824-48a4-8741-37ed7c1d65a0"
      },
      "execution_count": 12,
      "outputs": [
        {
          "output_type": "stream",
          "name": "stdout",
          "text": [
            "+-------+---+-----+----+-----+-----+----+------+---+---+-------+-----+-----+----+\n",
            "|   crim| zn|indus|chas|  nox|   rm| age|   dis|rad|tax|ptratio|    b|lstat|medv|\n",
            "+-------+---+-----+----+-----+-----+----+------+---+---+-------+-----+-----+----+\n",
            "|88.9762|0.0| 18.1|   0|0.671|6.968|91.9|1.4165| 24|666|   20.2|396.9|17.21|10.4|\n",
            "+-------+---+-----+----+-----+-----+----+------+---+---+-------+-----+-----+----+\n",
            "\n"
          ]
        }
      ]
    },
    {
      "cell_type": "code",
      "source": [
        "# 3.2 Property with the lowest median home value\n",
        "spark.sql(\"SELECT * FROM boston_housing ORDER BY medv ASC LIMIT 1\").show()"
      ],
      "metadata": {
        "colab": {
          "base_uri": "https://localhost:8080/"
        },
        "id": "sB0LnXQrQucZ",
        "outputId": "d36ff2d3-abd0-4e41-bcab-0506973b9a26"
      },
      "execution_count": 13,
      "outputs": [
        {
          "output_type": "stream",
          "name": "stdout",
          "text": [
            "+-------+---+-----+----+-----+-----+-----+------+---+---+-------+-----+-----+----+\n",
            "|   crim| zn|indus|chas|  nox|   rm|  age|   dis|rad|tax|ptratio|    b|lstat|medv|\n",
            "+-------+---+-----+----+-----+-----+-----+------+---+---+-------+-----+-----+----+\n",
            "|38.3518|0.0| 18.1|   0|0.693|5.453|100.0|1.4896| 24|666|   20.2|396.9|30.59| 5.0|\n",
            "+-------+---+-----+----+-----+-----+-----+------+---+---+-------+-----+-----+----+\n",
            "\n"
          ]
        }
      ]
    },
    {
      "cell_type": "code",
      "source": [
        "### Task 4: Data Distribution Analysis\n",
        "# 4.1 histogram showing the distribution of the \"age\" column\n",
        "\n",
        "import pandas as pd\n",
        "import matplotlib.pyplot as plt\n",
        "\n",
        "# Convert Spark DataFrame to Pandas DataFrame\n",
        "pdf = df.select(\"age\").toPandas()\n",
        "\n",
        "plt.hist(pdf['age'], bins=20, edgecolor='black')\n",
        "plt.xlabel('Age')\n",
        "plt.ylabel('Frequency')\n",
        "plt.title('Distribution of Age')\n",
        "plt.show()"
      ],
      "metadata": {
        "colab": {
          "base_uri": "https://localhost:8080/",
          "height": 472
        },
        "id": "y5YOZf11RG3T",
        "outputId": "5f15849f-756b-46e9-ff71-6f9720eca053"
      },
      "execution_count": 14,
      "outputs": [
        {
          "output_type": "display_data",
          "data": {
            "text/plain": [
              "<Figure size 640x480 with 1 Axes>"
            ],
            "image/png": "[encoded data removed]"
          },
          "metadata": {}
        }
      ]
    },
    {
      "cell_type": "code",
      "source": [
        "# 4.2 Percentage of properties with \"chas\" value of 1\n",
        "spark.sql(\"\"\"\n",
        "SELECT\n",
        "    (COUNT(*) * 100.0 / (SELECT COUNT(*) FROM boston_housing)) AS percent_chas_1\n",
        "FROM boston_housing\n",
        "WHERE chas = 1\n",
        "\"\"\").show()"
      ],
      "metadata": {
        "colab": {
          "base_uri": "https://localhost:8080/"
        },
        "id": "_IInySlQSDTD",
        "outputId": "f72de567-81e2-4021-84c3-d72e4e02b5b0"
      },
      "execution_count": 15,
      "outputs": [
        {
          "output_type": "stream",
          "name": "stdout",
          "text": [
            "+----------------+\n",
            "|  percent_chas_1|\n",
            "+----------------+\n",
            "|6.91699604743083|\n",
            "+----------------+\n",
            "\n"
          ]
        }
      ]
    },
    {
      "cell_type": "code",
      "source": [
        "### Task 5: Correlation Analysis\n",
        "\n",
        "# 5.1 Correlation coefficient between \"rm\" and \"medv\"\n",
        "spark.sql(\"SELECT CORR(rm, medv) AS corr_rm_medv FROM boston_housing\").show()"
      ],
      "metadata": {
        "colab": {
          "base_uri": "https://localhost:8080/"
        },
        "id": "A_8Ux9heSw_A",
        "outputId": "3f445856-2f95-48d8-82ec-1d12055f5f09"
      },
      "execution_count": 16,
      "outputs": [
        {
          "output_type": "stream",
          "name": "stdout",
          "text": [
            "+------------------+\n",
            "|      corr_rm_medv|\n",
            "+------------------+\n",
            "|0.6953599470715401|\n",
            "+------------------+\n",
            "\n"
          ]
        }
      ]
    },
    {
      "cell_type": "code",
      "source": [
        "# 5.2 Correlation between \"ptratio\" and \"nox\"\n",
        "spark.sql(\"SELECT CORR(ptratio, nox) AS corr_ptratio_nox FROM boston_housing\").show()"
      ],
      "metadata": {
        "colab": {
          "base_uri": "https://localhost:8080/"
        },
        "id": "RS8PG-hXS8LG",
        "outputId": "fdb5f3de-bf25-456e-81e7-0010eeea0f90"
      },
      "execution_count": 17,
      "outputs": [
        {
          "output_type": "stream",
          "name": "stdout",
          "text": [
            "+-------------------+\n",
            "|   corr_ptratio_nox|\n",
            "+-------------------+\n",
            "|0.18893267711276893|\n",
            "+-------------------+\n",
            "\n"
          ]
        }
      ]
    },
    {
      "cell_type": "code",
      "source": [
        "### Task 6: Advanced Querying\n",
        "\n",
        "# 6.1 Top 5 neighborhoods with highest median home values\n",
        "from pyspark.sql.window import Window\n",
        "\n",
        "windowSpec  = Window.orderBy(\"medv\") # Now Window is defined\n",
        "spark.sql(\"\"\"\n",
        "SELECT b, medv, rank() OVER (ORDER BY medv ASC) as rank_num\n",
        "FROM boston_housing\n",
        "\"\"\") \\\n",
        ".filter(\"rank_num <= 5\") \\\n",
        ".select(\"b\", \"medv\")\\\n",
        ".orderBy(\"b\", ascending=False).show()"
      ],
      "metadata": {
        "colab": {
          "base_uri": "https://localhost:8080/"
        },
        "id": "d-h-9oPtTKPn",
        "outputId": "fcc94070-e2d8-4301-91f1-99125b02734d"
      },
      "execution_count": 21,
      "outputs": [
        {
          "output_type": "stream",
          "name": "stdout",
          "text": [
            "+------+----+\n",
            "|     b|medv|\n",
            "+------+----+\n",
            "| 396.9| 5.6|\n",
            "| 396.9| 5.0|\n",
            "|384.97| 5.0|\n",
            "|344.05| 7.0|\n",
            "|338.16| 6.3|\n",
            "| 88.27| 7.0|\n",
            "+------+----+\n",
            "\n"
          ]
        }
      ]
    },
    {
      "cell_type": "code",
      "source": [
        "# 6.2 Average property age for neighborhoods with \"chas\" value of 1 vs 0\n",
        "spark.sql(\"SELECT chas, AVG(age) AS avg_age FROM boston_housing GROUP BY chas\").show()"
      ],
      "metadata": {
        "colab": {
          "base_uri": "https://localhost:8080/"
        },
        "id": "KkPYYh4aUcCN",
        "outputId": "c668abc0-c926-403a-9b86-16051452ff23"
      },
      "execution_count": null,
      "outputs": [
        {
          "output_type": "stream",
          "name": "stdout",
          "text": [
            "+----+-----------------+\n",
            "|chas|          avg_age|\n",
            "+----+-----------------+\n",
            "|   1|77.50000000000001|\n",
            "|   0|67.91167728237794|\n",
            "+----+-----------------+\n",
            "\n"
          ]
        }
      ]
    },
    {
      "cell_type": "code",
      "source": [
        "### Task 7: Visualization\n",
        "\n",
        "# 7.1 Create a Hive view named \"property_age_view\"\n",
        "spark.sql(\"CREATE OR REPLACE TEMP VIEW property_age_view AS SELECT age, medv FROM boston_housing\")"
      ],
      "metadata": {
        "colab": {
          "base_uri": "https://localhost:8080/"
        },
        "id": "MinYW-8_U41k",
        "outputId": "3b2886ff-c96c-4e22-8e47-12c46dfc13b6"
      },
      "execution_count": 24,
      "outputs": [
        {
          "output_type": "execute_result",
          "data": {
            "text/plain": [
              "DataFrame[]"
            ]
          },
          "metadata": {},
          "execution_count": 24
        }
      ]
    },
    {
      "cell_type": "code",
      "source": [
        "# 7.2 Plot a scatter plot of property age against median home value\n",
        "# Convert the view to Pandas DataFrame\n",
        "pdf = spark.sql(\"SELECT * FROM property_age_view\").toPandas()\n",
        "\n",
        "plt.scatter(pdf['age'], pdf['medv'])\n",
        "plt.xlabel('Age')\n",
        "plt.ylabel('Median Home Value')\n",
        "plt.title('Property Age vs Median Home Value')\n",
        "plt.show()"
      ],
      "metadata": {
        "colab": {
          "base_uri": "https://localhost:8080/",
          "height": 472
        },
        "id": "Dct_LAf-VFKH",
        "outputId": "7dc39e22-5bba-4bed-cc4f-998fc38f9d13"
      },
      "execution_count": null,
      "outputs": [
        {
          "output_type": "display_data",
          "data": {
            "text/plain": [
              "<Figure size 640x480 with 1 Axes>"
            ],
            "image/png": "[encoded data removed]"
          },
          "metadata": {}
        }
      ]
    },
    {
      "cell_type": "code",
      "source": [
        "### Task 8: Outliers Detection\n",
        "\n",
        "# 8.1 Properties with \"crim\" value greater than 10\n",
        "spark.sql(\"SELECT * FROM boston_housing WHERE crim > 10\").show()"
      ],
      "metadata": {
        "colab": {
          "base_uri": "https://localhost:8080/"
        },
        "id": "EL3QnkqKVOzs",
        "outputId": "62727396-b94d-4239-ed62-c9e6cea21a2c"
      },
      "execution_count": null,
      "outputs": [
        {
          "output_type": "stream",
          "name": "stdout",
          "text": [
            "+-------+---+-----+----+-----+-----+-----+------+---+---+-------+------+-----+----+\n",
            "|   crim| zn|indus|chas|  nox|   rm|  age|   dis|rad|tax|ptratio|     b|lstat|medv|\n",
            "+-------+---+-----+----+-----+-----+-----+------+---+---+-------+------+-----+----+\n",
            "|13.5222|0.0| 18.1|   0|0.631|3.863|100.0|1.5106| 24|666|   20.2|131.42|13.33|23.1|\n",
            "|11.1081|0.0| 18.1|   0|0.668|4.906|100.0|1.1742| 24|666|   20.2| 396.9|34.77|13.8|\n",
            "|18.4982|0.0| 18.1|   0|0.668|4.138|100.0| 1.137| 24|666|   20.2| 396.9|37.97|13.8|\n",
            "|19.6091|0.0| 18.1|   0|0.671|7.313| 97.9|1.3163| 24|666|   20.2| 396.9|13.44|15.0|\n",
            "| 15.288|0.0| 18.1|   0|0.671|6.649| 93.3|1.3449| 24|666|   20.2|363.02|23.24|13.9|\n",
            "|23.6482|0.0| 18.1|   0|0.671| 6.38| 96.2|1.3861| 24|666|   20.2| 396.9|23.69|13.1|\n",
            "|17.8667|0.0| 18.1|   0|0.671|6.223|100.0|1.3861| 24|666|   20.2|393.74|21.78|10.2|\n",
            "|88.9762|0.0| 18.1|   0|0.671|6.968| 91.9|1.4165| 24|666|   20.2| 396.9|17.21|10.4|\n",
            "|15.8744|0.0| 18.1|   0|0.671|6.545| 99.1|1.5192| 24|666|   20.2| 396.9|21.08|10.9|\n",
            "|20.0849|0.0| 18.1|   0|  0.7|4.368| 91.2|1.4395| 24|666|   20.2|285.83|30.63| 8.8|\n",
            "|16.8118|0.0| 18.1|   0|  0.7|5.277| 98.1|1.4261| 24|666|   20.2| 396.9|30.81| 7.2|\n",
            "|24.3938|0.0| 18.1|   0|  0.7|4.652|100.0|1.4672| 24|666|   20.2| 396.9|28.28|10.5|\n",
            "|22.5971|0.0| 18.1|   0|  0.7|  5.0| 89.5|1.5184| 24|666|   20.2| 396.9|31.99| 7.4|\n",
            "|14.3337|0.0| 18.1|   0|  0.7| 4.88|100.0|1.5895| 24|666|   20.2|372.92|30.62|10.2|\n",
            "|11.5779|0.0| 18.1|   0|  0.7|5.036| 97.0|  1.77| 24|666|   20.2| 396.9|25.68| 9.7|\n",
            "|13.3598|0.0| 18.1|   0|0.693|5.887| 94.7|1.7821| 24|666|   20.2| 396.9|16.35|12.7|\n",
            "|38.3518|0.0| 18.1|   0|0.693|5.453|100.0|1.4896| 24|666|   20.2| 396.9|30.59| 5.0|\n",
            "|25.0461|0.0| 18.1|   0|0.693|5.987|100.0|1.5888| 24|666|   20.2| 396.9|26.77| 5.6|\n",
            "|14.2362|0.0| 18.1|   0|0.693|6.343|100.0|1.5741| 24|666|   20.2| 396.9|20.32| 7.2|\n",
            "|24.8017|0.0| 18.1|   0|0.693|5.349| 96.0|1.7028| 24|666|   20.2| 396.9|19.77| 8.3|\n",
            "+-------+---+-----+----+-----+-----+-----+------+---+---+-------+------+-----+----+\n",
            "only showing top 20 rows\n",
            "\n"
          ]
        }
      ]
    },
    {
      "cell_type": "markdown",
      "source": [
        "# 8.2 Discuss the significance of outliers\n",
        "(reference: https://www.psychologytoday.com/us/blog/singular-perspective/202102/the-importance-outliers)\n",
        "\n",
        "1.  Clues for Unforeseen Patterns: Outliers can signal underlying new\n",
        "     patterns or trends that are not immediately apparent.\n",
        "2.  Potential for Discovery: Outliers can lead to significant discoveries\n",
        "     and breakthroughs. They can reveal important information that can change established practices and lead to innovations.\n",
        "3.  Identifying Errors and Anomalies: Outliers can result from human\n",
        "     error, sampling errors, or misreporting. Identifying and analyzing these outliers can help in improving data collection and processing methods.\n",
        "4.  Opportunities for Further Research: The presence of outliers can\n",
        "     highlight areas that require further investigation.\n",
        "5.  Uncovering Rare Phenomena: Outliers help in identifying and studying  \n",
        "     rare phenomena that might otherwise be overlooked\n",
        "\n",
        "\n",
        "\n"
      ],
      "metadata": {
        "id": "nIbRHaGWqq9l"
      }
    },
    {
      "cell_type": "markdown",
      "source": [
        "## **Task 9: Hypothesis Testing**\n",
        "\n",
        "## 9.1 Formulate a hypothesis\n",
        "*   **Null Hypothesis (H0)**: The average number of rooms does not have a\n",
        "     significant impact on the median home value.\n",
        "*   **Alternative Hypothesis (H1**): The average number of rooms has a\n",
        "     significant impact on the median home value.\n"
      ],
      "metadata": {
        "id": "UDeQ8Zh-vFbU"
      }
    },
    {
      "cell_type": "code",
      "source": [
        "# 9.2 Conduct a t-test using HiveQL\n",
        "\n",
        "# Calculate summary statistics for rm and medv\n",
        "summary_stats = spark.sql(\"\"\"\n",
        "    SELECT\n",
        "        AVG(rm) AS mean_rm,\n",
        "        VARIANCE(rm) AS var_rm,\n",
        "        AVG(medv) AS mean_medv,\n",
        "        VARIANCE(medv) AS var_medv,\n",
        "        COUNT(*) AS n\n",
        "    FROM boston_housing\n",
        "\"\"\")\n",
        "summary_stats.show()\n"
      ],
      "metadata": {
        "colab": {
          "base_uri": "https://localhost:8080/"
        },
        "id": "4knkL-Phz0Sy",
        "outputId": "4769c284-d5ef-4419-db39-dae56ca5f6c4"
      },
      "execution_count": 27,
      "outputs": [
        {
          "output_type": "stream",
          "name": "stdout",
          "text": [
            "+-----------------+-------------------+------------------+----------------+---+\n",
            "|          mean_rm|             var_rm|         mean_medv|        var_medv|  n|\n",
            "+-----------------+-------------------+------------------+----------------+---+\n",
            "|6.284634387351787|0.49367085022110885|22.532806324110698|84.5867235940985|506|\n",
            "+-----------------+-------------------+------------------+----------------+---+\n",
            "\n"
          ]
        }
      ]
    },
    {
      "cell_type": "code",
      "source": [
        "# Calculate the t-statistic using the summary statistics\n",
        "summary_stats.createOrReplaceTempView(\"summary_stats\")\n",
        "\n",
        "t_stat_calc = spark.sql(\"\"\"\n",
        "    SELECT\n",
        "        mean_rm,\n",
        "        mean_medv,\n",
        "        var_rm,\n",
        "        var_medv,\n",
        "        n,\n",
        "        (mean_rm - mean_medv) / SQRT((var_rm / n) + (var_medv / n)) AS t_stat\n",
        "    FROM summary_stats\n",
        "\"\"\")\n",
        "t_stat_calc.show()\n"
      ],
      "metadata": {
        "colab": {
          "base_uri": "https://localhost:8080/"
        },
        "id": "fXbeRSqv0kHp",
        "outputId": "a484d9f3-217a-4865-d4cd-6a2b98bc7de5"
      },
      "execution_count": 28,
      "outputs": [
        {
          "output_type": "stream",
          "name": "stdout",
          "text": [
            "+-----------------+------------------+-------------------+----------------+---+------------------+\n",
            "|          mean_rm|         mean_medv|             var_rm|        var_medv|  n|            t_stat|\n",
            "+-----------------+------------------+-------------------+----------------+---+------------------+\n",
            "|6.284634387351787|22.532806324110698|0.49367085022110885|84.5867235940985|506|-39.62461149680037|\n",
            "+-----------------+------------------+-------------------+----------------+---+------------------+\n",
            "\n"
          ]
        }
      ]
    },
    {
      "cell_type": "code",
      "source": [
        "# Export Results from PySpark SQL to Pandas and Calculate P-Value\n",
        "\n",
        "summary_stats_df = summary_stats.toPandas()\n",
        "t_stat_calc_df = t_stat_calc.toPandas()\n",
        "\n",
        "mean_rm = summary_stats_df.at[0, 'mean_rm']\n",
        "mean_medv = summary_stats_df.at[0, 'mean_medv']\n",
        "var_rm = summary_stats_df.at[0, 'var_rm']\n",
        "var_medv = summary_stats_df.at[0, 'var_medv']\n",
        "n = summary_stats_df.at[0, 'n']\n",
        "t_stat = t_stat_calc_df.at[0, 't_stat']\n",
        "\n",
        "# Degrees of freedom\n",
        "df = n - 2\n",
        "\n",
        "# Calculate the p-value\n",
        "import scipy.stats as stats\n",
        "p_value = stats.t.sf(abs(t_stat), df) * 2\n",
        "\n",
        "print(f\"T-Statistic: {t_stat}, P-Value: {p_value}\")\n",
        "\n",
        "# Determine the significance level\n",
        "alpha = 0.05\n",
        "\n",
        "if p_value < alpha:\n",
        "    print(\"Reject the null hypothesis. There is a significant impact of the average number of rooms on the median home value.\")\n",
        "else:\n",
        "    print(\"Fail to reject the null hypothesis. There is no significant impact of the average number of rooms on the median home value.\")\n"
      ],
      "metadata": {
        "colab": {
          "base_uri": "https://localhost:8080/"
        },
        "id": "oWB0An-I0tZr",
        "outputId": "62694f86-5269-4894-9bed-e987acca3253"
      },
      "execution_count": 29,
      "outputs": [
        {
          "output_type": "stream",
          "name": "stdout",
          "text": [
            "T-Statistic: -39.62461149680037, P-Value: 6.047544328582182e-157\n",
            "Reject the null hypothesis. There is a significant impact of the average number of rooms on the median home value.\n"
          ]
        }
      ]
    }
  ]
}